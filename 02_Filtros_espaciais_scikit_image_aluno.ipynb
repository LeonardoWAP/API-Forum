{
  "nbformat": 4,
  "nbformat_minor": 0,
  "metadata": {
    "colab": {
      "name": "02-Filtros espaciais - scikit-image-aluno.ipynb",
      "provenance": [],
      "collapsed_sections": [
        "58eHs966GVKl"
      ]
    },
    "kernelspec": {
      "display_name": "Python 3",
      "language": "python",
      "name": "python3"
    }
  },
  "cells": [
    {
      "cell_type": "markdown",
      "metadata": {
        "id": "zkWRcSOiGVI3"
      },
      "source": [
        "# Filtros Espaciais com scipy.ndimage e scikit-image\n",
        "\n",
        "## Objetivos\n",
        "\n",
        "Aprender a:\n",
        "\n",
        " * Aplicar filtros a imagens coloridas (RGB) e imagens níveis de cinza\n",
        " * Suavizar (borrar) imagens com vários filtros passa-baixa\n",
        " * Descobrir e aplicar vários filtros passa-alta\n",
        " * Aplicar filtros customizados a imagens (convolução 2D)\n",
        " \n",
        "\n",
        "\n",
        "## Adaptando filtros de níveis de cinza a imagens RGB\n",
        "\n",
        "Muitos filtros são projetados para trabalharem com imagens em níveis de cinza, mas não com imagens coloridas. Para simplificar o processo  de criar funções que possam ser adaptadas a imagens RGB, o `scikit-image` provê um *decorator* `adapt-rgb`.\n",
        "\n",
        "Este *decorator* provê duas maneiras padrão de utilização: \n",
        "\n",
        "* `each_channel` - passa cada canal RGB ao filtro, um por um, e depois junta o resultado de volta em uma imagemm RGB.\n",
        "\n",
        "* `hsv_value` - converte a imagen RGB para HSV e passa o canal valor para o filtro. O resultado filtrado é inserido de volta na imagem HSV e convertido de volta para RGB.\n",
        "\n",
        "\n",
        "Veja abaixo, uma demonstração do uso do `adapt_rgb` em alguns filtros dle níveis de cinza:"
      ]
    },
    {
      "cell_type": "code",
      "metadata": {
        "id": "sRDp0EBMGVI6"
      },
      "source": [
        "from skimage.color.adapt_rgb import adapt_rgb, each_channel, hsv_value\n",
        "from skimage import filters\n",
        "\n",
        "\n",
        "@adapt_rgb(each_channel)\n",
        "def sobel_each(image):\n",
        "    return filters.sobel(image)\n",
        "\n",
        "\n",
        "@adapt_rgb(hsv_value)\n",
        "def sobel_hsv(image):\n",
        "    return filters.sobel(image)"
      ],
      "execution_count": null,
      "outputs": []
    },
    {
      "cell_type": "code",
      "metadata": {
        "id": "zw7UGiDoGVI9"
      },
      "source": [
        "import skimage\n",
        "skimage.__version__"
      ],
      "execution_count": null,
      "outputs": []
    },
    {
      "cell_type": "markdown",
      "metadata": {
        "id": "4xo2vkXuGVJA"
      },
      "source": [
        "Podemos utilizar estas funções normalmente, mas agora elas funcionam tanto com imagens níveis de cinza como com imagens coloridas. Vamos ver alguns exemplos."
      ]
    },
    {
      "cell_type": "code",
      "metadata": {
        "id": "FdGjum7MGVJC"
      },
      "source": [
        "from skimage import data\n",
        "from skimage.exposure import rescale_intensity\n",
        "import matplotlib.pyplot as plt"
      ],
      "execution_count": null,
      "outputs": []
    },
    {
      "cell_type": "code",
      "metadata": {
        "id": "0Hioc5O2GVJE"
      },
      "source": [
        "from scipy.ndimage import generic_filter, correlate\n",
        "from skimage import io\n",
        "import numpy as np\n",
        "import functools"
      ],
      "execution_count": null,
      "outputs": []
    },
    {
      "cell_type": "code",
      "metadata": {
        "id": "jsVI8cQkGVJH"
      },
      "source": [
        "%matplotlib inline"
      ],
      "execution_count": null,
      "outputs": []
    },
    {
      "cell_type": "code",
      "metadata": {
        "id": "yC-OHBbVGVJL"
      },
      "source": [
        "\n",
        "image = data.astronaut()\n",
        "\n",
        "fig = plt.figure(figsize=(14, 7))\n",
        "ax_each = fig.add_subplot(121, adjustable='box')\n",
        "ax_hsv = fig.add_subplot(122, sharex=ax_each, sharey=ax_each,\n",
        "                         adjustable='box')\n",
        "\n",
        "# Usamos aqui 1 - sobel_each(image)\n",
        "# mas isso nao funcionara se image nao eh normalizada\n",
        "ax_each.imshow(rescale_intensity(1 - sobel_each(image)))\n",
        "ax_each.set_xticks([]), ax_each.set_yticks([])\n",
        "ax_each.set_title(\"Filtro Sobel calculado\\n sobre os canais individuais RGB\")\n",
        "\n",
        "# Usamos 1 - sobel_hsv(image) mas nao funcionara se a imagem nao for normalizada\n",
        "ax_hsv.imshow(rescale_intensity(sobel_hsv(image)))\n",
        "ax_hsv.set_xticks([]), ax_hsv.set_yticks([])\n",
        "ax_hsv.set_title(\"Filtro Sobel calculado\\n sobre o (V)alor da imagem (HSV) convertida\")"
      ],
      "execution_count": null,
      "outputs": []
    },
    {
      "cell_type": "code",
      "metadata": {
        "id": "4PEGSp9MGVJN"
      },
      "source": [
        "fig = plt.figure(figsize=(14, 7))\n",
        "plt.subplot(111), plt.imshow(image)\n",
        "plt.xticks([]), plt.yticks([])\n",
        "plt.title(\"Imagem RGB original\")\n"
      ],
      "execution_count": null,
      "outputs": []
    },
    {
      "cell_type": "markdown",
      "metadata": {
        "id": "VpBYY0gCGVJS"
      },
      "source": [
        "### Convertendo para Niveis de Cinza antes de aplicar o filtro\n",
        "\n",
        "No exemplo abaixo, a imagem colorida (RGB) original é primeiramente convertida para níveis de cinza e depois o filtro é aplicado."
      ]
    },
    {
      "cell_type": "code",
      "metadata": {
        "scrolled": false,
        "id": "buawYAf7GVJT"
      },
      "source": [
        "from skimage.color import rgb2gray\n",
        "\n",
        "gray_image = rgb2gray(image)\n",
        "\n",
        "fig = plt.figure(figsize=(7, 7))\n",
        "ax = fig.add_subplot(111, sharex=ax_each, sharey=ax_each,\n",
        "                     adjustable='box')\n",
        "\n",
        "# Usamos 1 - sobel(gray_image)\n",
        "# Mas nao funcionaria se a imagem nao estivesse normalizada\n",
        "ax.imshow(rescale_intensity(1 - filters.sobel(gray_image)), cmap=plt.cm.gray)\n",
        "ax.set_xticks([]), ax.set_yticks([])\n",
        "ax.set_title(\"Filtro Sobel calculado\\n sobre a imagem convertida para niveis de cinza\")\n",
        "\n",
        "plt.show()"
      ],
      "execution_count": null,
      "outputs": []
    },
    {
      "cell_type": "markdown",
      "metadata": {
        "id": "zcvf9jvKGVJX"
      },
      "source": [
        "Agora que já sabemos como aplicar filtros em imagens coloridas, podemos passar para a construção dos kernels e sua exploração.\n",
        "\n",
        "## Convolução 2D (Filtros de imagens)\n",
        "\n",
        "Assim como sinais de uma dimensão, as imagens também podem ser filtradas com vários filtros passa-baixa (*low-pass filters* -- LPF), filtros passa-alta (*high-pass filters* -- HPF), etc. Um filtro **LPF** ajuda na remoção de ruído, ou no borramento da imagem. Um filtro **HPF** ajuda na localização de bordas em uma imagem.\n",
        "\n",
        "O `scipy.ndimage` provê funções para fazer a convolução de um kernel com uma imagem. Como um exemplo, vamos fazer um filtro de média em uma imagem. Um kernel de média 5x5 pode ser definido como:\n",
        "\n",
        "              | 1 1 1 1 1 |\n",
        "              | 1 1 1 1 1 |\n",
        "    K = 1/25  | 1 1 1 1 1 |\n",
        "              | 1 1 1 1 1 |\n",
        "              | 1 1 1 1 1 |\n",
        "\n",
        "A aplicação do filtro acima resulta nas seguintes operações sendo realizadas: para cada pixel, uma janela 5x5 é centralizada neste pixel, todos os pixels que estão dentro desta janela são somados e o resultado é, então, dividido por 25. Isto é equivalente a computar a média dos valores dos pixels dentro desta janela. Esta operação é realizada para todos os pixels da imagem para produzir a imagem filtrada resultante. \n",
        "\n",
        "\n",
        "## generic_filter\n",
        "\n",
        "`scipy.ndimage` provê uma função apropriada (`generic_filter`) que vamos utilizar para aplicar filtros genéricos (que nós construímos) em uma imagem. Esta não é uma tarefa trivial, ou seja, aplicar um *kernel* a uma imagem, lidando com os pixels das bordas, com as dimensões das imagens, etc. Isso fica mais fácil com o `generic_filter`.\n",
        "\n",
        "Basicamente, um filtro fornecido é utilizado para iterar um *seletor* (chamado de elemento estruturante) sobre um array, calcular alguma função sobre todos os valores cobertos pelo elemento estruturante, e substituir o valor central pelo resultado da função (filtro).\n",
        "\n",
        "Assim, para utilizar o `generic_filter` precisamos de uma função que, ao ser aplicada a um conjunto de valores, retorne um único número.\n",
        "\n",
        "### Aplicação do kernel\n",
        "\n",
        "A aplicação do `kernel` é realizada com a função `generic_filter` que tem a seguinte sintaxe:\n",
        "\n",
        "```\n",
        ">>> def fnc(buffer):\n",
        "...     return (buffer * np.array([1, 3])).sum()\n",
        "...\n",
        ">>> from scipy.ndimage import generic_filter\n",
        ">>> generic_filter(a, fnc, footprint = [[1, 0], [0, 1]])\n",
        "array([[ 0,  3,  7, 11],\n",
        "       [12, 15, 19, 23],\n",
        "       [28, 31, 35, 39]])\n",
        "```\n",
        "\n",
        "Onde:\n",
        "\n",
        "* `a` é a imagem de entrada\n",
        "* `fnc` é a função filtro, que deve retornar um valor único\n",
        "* `footprint` é o elemento estruturante que será utilizado para extrair pedaços da imagem.\n",
        "\n",
        "Há ainda dois argumentos adicionais que podem ser utilizados: `extra_arguments` e `extra_keywords`. Com eles podemos passar uma tupla de argumentos extras e/ou um dicionário de argumentos nomeados que são então passados à função filtro em cada chamada."
      ]
    },
    {
      "cell_type": "markdown",
      "metadata": {
        "id": "Zl0VFQ0hGVJY"
      },
      "source": [
        "### Definindo nossa função genérica\n",
        "\n",
        "Vamos definir uma função genérica `func` que receberá os valores selecionados no `generic_filter` e também os pesos de cada posição; cada valor será multiplicado pelo respectivo peso e o resultado somado.\n",
        "\n",
        "O valor resultante de cada pixel após a aplicação do filtro pode ser negativo ou maior do que 255. Se isto acontece, temos duas abordagens:\n",
        "\n",
        "* truncá-los, de modo que valores menores do que 0 se tornem 0 e valores maiores do que 255 fiquem com 255.\n",
        "* para valores negativos, também podemos pegar os valores absolutos ao invés de truncar.\n",
        "\n",
        "Esta função genérica vai fazer o truncamento, mas é fácil modificá-la para pegar o valor absoluto dos negativos."
      ]
    },
    {
      "cell_type": "code",
      "metadata": {
        "id": "DuhcG29EGVJY"
      },
      "source": [
        "def fnc(buffer,weights):\n",
        "    #weights = [1,1,1,1,1,1,1,1,1]\n",
        "    return min(max((buffer * weights).sum(),0),255)\n",
        "#    return (buffer * weights).sum()"
      ],
      "execution_count": null,
      "outputs": []
    },
    {
      "cell_type": "markdown",
      "metadata": {
        "id": "5PgBSt7qGVJb"
      },
      "source": [
        "### Ilustrando o efeito de se truncar ou não os valores após a aplicação do filtro"
      ]
    },
    {
      "cell_type": "code",
      "metadata": {
        "id": "A8Y-rlvcGVJc"
      },
      "source": [
        "# Um array de dimensao 5x5\n",
        "kernel = np.ones((3,3),np.uint8)\n",
        "\n",
        "# Uma máscara de 9 elementos\n",
        "ws = [-1,-1,-1,-1,8,-1,-1,-1,-1,]\n",
        "ws = [1/9,1/9,1/9,1/9,1/9,1/9,1/9,1/9,1/9,]\n",
        "# uma imagem 8x8 com 1's\n",
        "imgd = np.ones((8,8),np.int8)\n",
        "# acertando os valores\n",
        "imgd[0,:] = [10, 9, 8, 25, 11, 12, 12, 11]\n",
        "#img[0,7] = 0\n",
        "imgd[1,:] = [9, 8, 11, 26, 11, 10, 11, 11]\n",
        "imgd[2,:] = [11, 12, 9, 25, 12, 10, 11, 9]\n",
        "imgd[3,:] = [10, 12, 11, 27, 12, 11, 10, 11]\n",
        "imgd[4,:] = [9,  7,  8,  27,  8,  9,  9,  8]\n",
        "imgd[5,:] = [11, 11, 10, 24, 12, 10, 11, 12]\n",
        "imgd[6,:] = [9,  9,  8,  28,  9,  9,  9,  8]\n",
        "imgd[7,:] = [9,  8,  9,  26,  8,  9,  9,  9]\n",
        "\n",
        "\n",
        "# esta função \n",
        "def fncnaq(buffer,weights):\n",
        "    #weights = [1,1,1,1,1,1,1,1,1]\n",
        "    return (buffer * weights).sum()\n",
        "\n",
        "def fncabs(buffer,weights):\n",
        "    return min(abs((buffer * weights).sum()),255)\n",
        "\n"
      ],
      "execution_count": null,
      "outputs": []
    },
    {
      "cell_type": "code",
      "metadata": {
        "id": "pEwuEg9ZGVJe"
      },
      "source": [
        "imgd"
      ],
      "execution_count": null,
      "outputs": []
    },
    {
      "cell_type": "code",
      "metadata": {
        "id": "JYISt5J8GVJh"
      },
      "source": [
        "?np.histogram"
      ],
      "execution_count": null,
      "outputs": []
    },
    {
      "cell_type": "code",
      "metadata": {
        "id": "6Psv88K7GVJk"
      },
      "source": [
        "unicos = np.unique(imgd)\n",
        "unicos\n",
        "#novobins = np.append(unicos, unicos[-1]+1)"
      ],
      "execution_count": null,
      "outputs": []
    },
    {
      "cell_type": "code",
      "metadata": {
        "id": "PWwt087XGVJm"
      },
      "source": [
        "hist = np.histogram(imgd,bins=np.append(unicos, unicos[-1]+1))\n",
        "hist"
      ],
      "execution_count": null,
      "outputs": []
    },
    {
      "cell_type": "code",
      "metadata": {
        "id": "t3-8iQnpGVJo"
      },
      "source": [
        "MN = imgd.shape[1]*imgd.shape[0]"
      ],
      "execution_count": null,
      "outputs": []
    },
    {
      "cell_type": "code",
      "metadata": {
        "id": "wgKej4hUGVJs"
      },
      "source": [
        "hist[0]/MN"
      ],
      "execution_count": null,
      "outputs": []
    },
    {
      "cell_type": "code",
      "metadata": {
        "id": "czTKfdhJGVJy"
      },
      "source": [
        "generic_filter(imgd,function=fnc,footprint=kernel,extra_arguments=(ws,))"
      ],
      "execution_count": null,
      "outputs": []
    },
    {
      "cell_type": "code",
      "metadata": {
        "id": "fVOwE_W6GVJ1"
      },
      "source": [
        "generic_filter(imgd,function=fncnaq,footprint=kernel,extra_arguments=(ws,))"
      ],
      "execution_count": null,
      "outputs": []
    },
    {
      "cell_type": "code",
      "metadata": {
        "id": "hWUx0vUyGVJ4"
      },
      "source": [
        "generic_filter(imgd,function=fncabs,footprint=kernel,extra_arguments=(ws,))"
      ],
      "execution_count": null,
      "outputs": []
    },
    {
      "cell_type": "markdown",
      "metadata": {
        "id": "73dpZu6LGVJ7"
      },
      "source": [
        "### Definindo o elemento estruturante e um vetor de pesos"
      ]
    },
    {
      "cell_type": "code",
      "metadata": {
        "id": "6GLFnN_YGVJ8"
      },
      "source": [
        "# Um array de 1's, de dimensao 5x5\n",
        "kernel = np.ones((3,3),np.uint8)\n",
        "\n",
        "# Um vetor de 25 elementos 1's\n",
        "ws = [1 for x in range(0,9)]"
      ],
      "execution_count": null,
      "outputs": []
    },
    {
      "cell_type": "code",
      "metadata": {
        "id": "-n3wfQsIGVJ-"
      },
      "source": [
        "# Nossa imagem de testes - colorida\n",
        "imagem_color = image #io.imread('/home/mario/docs/cursos/pdivc/images/opencv_logo.png')\n",
        "print(\"Imagem colorida original - shape\")\n",
        "print(imagem_color.shape)\n",
        "\n",
        "img = rgb2gray(imagem_color) # transformando para níveis de cinza\n",
        "print(\"Imagem níveis de cinza - shape\")\n",
        "print(img.shape)\n",
        "\n"
      ],
      "execution_count": null,
      "outputs": []
    },
    {
      "cell_type": "code",
      "metadata": {
        "id": "ln4rHC4zGVKA"
      },
      "source": [
        "fig = plt.figure(figsize=(14, 7))\n",
        "dst = generic_filter(img,function=fnc,footprint=kernel,extra_arguments=(ws,))\n",
        "plt.subplot(121),plt.imshow(img,cmap='gray'),plt.title('Original')\n",
        "plt.xticks([]), plt.yticks([])\n",
        "plt.subplot(122),plt.imshow(dst,cmap='gray'),plt.title('Media 3x3')\n",
        "\n",
        "plt.xticks([]), plt.yticks([])\n",
        "plt.show()"
      ],
      "execution_count": null,
      "outputs": []
    },
    {
      "cell_type": "code",
      "metadata": {
        "id": "XhVOlV4hP70u"
      },
      "source": [
        "\n",
        "# Um array de 1's, de dimensao 7x7\n",
        "kernel = np.ones((7,7),np.uint8)\n",
        "\n",
        "# Um vetor de 25 elementos 1's\n",
        "ws = [1 for x in range(0,49)]"
      ],
      "execution_count": null,
      "outputs": []
    },
    {
      "cell_type": "code",
      "metadata": {
        "id": "Iil8v3RXQd2D"
      },
      "source": [
        "fig = plt.figure(figsize=(14, 7))\n",
        "dst = generic_filter(img,function=fnc,footprint=kernel,extra_arguments=(ws,))\n",
        "plt.subplot(121),plt.imshow(img,cmap='gray'),plt.title('Original')\n",
        "plt.xticks([]), plt.yticks([])\n",
        "plt.subplot(122),plt.imshow(dst,cmap='gray'),plt.title('Media 7x7')\n",
        "\n",
        "plt.xticks([]), plt.yticks([])\n",
        "plt.show()"
      ],
      "execution_count": null,
      "outputs": []
    },
    {
      "cell_type": "markdown",
      "metadata": {
        "id": "71bCxW6xGVKC"
      },
      "source": [
        "### Mais exemplos\n",
        "\n",
        "Utilizando uma função direta do NumPy (`median`)."
      ]
    },
    {
      "cell_type": "code",
      "metadata": {
        "id": "Q_gX-nGpGVKD"
      },
      "source": [
        "fig = plt.figure(figsize=(14, 7))\n",
        "dst = generic_filter(img,function=np.median,footprint=kernel)\n",
        "plt.subplot(121),plt.imshow(img,cmap='gray'),plt.title('Original')\n",
        "plt.xticks([]), plt.yticks([])\n",
        "plt.subplot(122),plt.imshow(dst,cmap='gray'),plt.title('Mediana')\n",
        "\n",
        "plt.xticks([]), plt.yticks([])\n",
        "plt.show()"
      ],
      "execution_count": null,
      "outputs": []
    },
    {
      "cell_type": "markdown",
      "metadata": {
        "id": "UJZsddDsGVKM"
      },
      "source": [
        "## Borramento de Imagens (Suavização)\n",
        "\n",
        "O borramento de imagens é conseguido através a convolução da imagem com um kernel de filtro passa-baixa. É útil para remover ruído. Na verdade, ele remove o conteúdo de alta frequência (p.explo., ruídos, bordas) da imagem resultando nas bordas sendo borradas quando este filtro é aplicado. (Existem algumas técnicas de borramento que não borram (suavizam) as bordas). \n",
        "\n",
        "No `scikit-image` e no `scipy-ndimage` temos algumas opções de filtros de suavização, dentre eles:\n",
        "\n",
        "* laplace\n",
        "* gaussian\n",
        "* sobel\n",
        "* roberts\n",
        "* scharr\n",
        "* etc\n",
        "\n",
        "Além destes filtros \"prontos\", também podemos utilizar a funcionalidade descrita anteriormente para aplicar um kernel genérico a uma imagem utilizando a função `generic_filter`.\n",
        "\n",
        "Dentre os filtros de suavização mais conhecidos, estão:\n",
        "\n",
        "### 1. Média (averaging)\n",
        "\n",
        "Isto é feito através da convolução da imagem com um filtro quadrado normalizado. Ele simplesmente pega a média de todos os pixels sob a área do kernel e substitui o elemento central com esta média. Nos exemplos anteriores (acima) aprendemos como aplicar um kernel genérico a uma imagem.  Um filtro quadrado 3x3 normalizado seria mais ou menos como:\n",
        "\n",
        "             | 1 1 1 |\n",
        "    K = 1/9  | 1 1 1 |\n",
        "             | 1 1 1 |\n",
        "\n",
        "\n",
        ">Se você não quiser utilizar um filtro quadrado normalizado, use a função **cv2.boxFilter()** e passe o argumento `normalize=False` para a função.\n",
        "\n",
        "Veja o exemplo abaixo com um kernel de tamanho 5x5:"
      ]
    },
    {
      "cell_type": "code",
      "metadata": {
        "id": "PdaDgn_iGVKN"
      },
      "source": [
        "def media(buffer,weights):\n",
        "    #weights = [1,1,1,1,1,1,1,1,1]\n",
        "    return (buffer * weights).sum()/sum(weights)\n"
      ],
      "execution_count": null,
      "outputs": []
    },
    {
      "cell_type": "code",
      "metadata": {
        "id": "0GUVNQGXGVKP"
      },
      "source": [
        "# Um array de 1's, de dimensao 5x5\n",
        "kernel = np.ones((5,5),np.uint8)\n",
        "\n",
        "# Um vetor de 25 elementos 1's\n",
        "ws = [1 for x in range(0,25)]"
      ],
      "execution_count": null,
      "outputs": []
    },
    {
      "cell_type": "code",
      "metadata": {
        "id": "VWPzA6GkGVKS"
      },
      "source": [
        "from skimage.color import rgb2gray\n",
        "\n",
        "# Nossa imagem de testes - colorida\n",
        "imagem_color = image #io.imread('/home/mario/docs/cursos/pdivc/images/opencv_logo.png')\n",
        "print(\"Imagem colorida original - shape\")\n",
        "print(imagem_color.shape)\n",
        "\n",
        "img = rgb2gray(imagem_color) # transformando para níveis de cinza\n",
        "print(\"Imagem níveis de cinza - shape\")\n",
        "print(img.shape)\n"
      ],
      "execution_count": null,
      "outputs": []
    },
    {
      "cell_type": "code",
      "metadata": {
        "scrolled": false,
        "id": "rHavLPAvGVKU"
      },
      "source": [
        "# aplicando o filtro de média\n",
        "\n",
        "fig = plt.figure(figsize=(14, 7))\n",
        "dst = generic_filter(img,function=media,footprint=kernel,extra_arguments=(ws,))\n",
        "plt.subplot(121),plt.imshow(img,cmap='gray'),plt.title('Original')\n",
        "plt.xticks([]), plt.yticks([])\n",
        "plt.subplot(122),plt.imshow(dst,cmap='gray'),plt.title('Media')\n",
        "\n",
        "plt.xticks([]), plt.yticks([])\n",
        "plt.show()"
      ],
      "execution_count": null,
      "outputs": []
    },
    {
      "cell_type": "markdown",
      "metadata": {
        "id": "ega485oiGVKW"
      },
      "source": [
        "### 2. Filtro Gaussiano\n",
        "\n",
        "Nesta abordagem, ao invés de um filtro quadrado consistindo de coeficientes iguais, um kernel Gaussiano é utilizado. Isto é feito com a função **skimage.filters.gaussian**. \n",
        "\n",
        "O protótipo da função `filters.gaussian` é: \n",
        "\n",
        "> skimage.filters.gaussian(image, sigma, output=None, mode='nearest', cval=0, multichannel=None)\n",
        "\n",
        "Precisamos fornecer `image` -- a imagem de entrada; `sigma` -- desvio padrão do kernel gaussiano (escalar ou lista); `output` -- um array onde guardar o resultado; `mode` -- {'reflect', 'constant', 'nearest', 'mirror', 'wrap'}, o tipo de tratamento das bordas; `cval` -- valor a ser utilizado nas bordas se `mode` == constant; e `multichannel` -- *booleano*, se o último eixo da imagem deve ser considerado como multicanal.\n",
        "\n",
        "A filtragem Gaussiana é muito efetiva na remoção de ruído Gaussiano de uma imagem.\n",
        "\n",
        "Podemos fazer uma filtragem Gaussiana de uma imagem *multicanal* (colorida), utilizando a seguinte chamada:\n",
        "\n",
        "`filtered_img = gaussian(image, sigma=1, multichannel=True)`\n"
      ]
    },
    {
      "cell_type": "code",
      "metadata": {
        "scrolled": false,
        "id": "MNJhTD2eGVKX"
      },
      "source": [
        "# aplicando o filtro gaussiano\n",
        "from skimage.filters import gaussian\n",
        "\n",
        "fig = plt.figure(figsize=(14, 7))\n",
        "dst = gaussian(img,sigma=5,multichannel=False)\n",
        "plt.subplot(121),plt.imshow(img,cmap='gray'),plt.title('Original')\n",
        "plt.xticks([]), plt.yticks([])\n",
        "plt.subplot(122),plt.imshow(dst,cmap='gray'),plt.title('Gaussiano')\n",
        "\n",
        "plt.xticks([]), plt.yticks([])\n",
        "plt.show()"
      ],
      "execution_count": null,
      "outputs": []
    },
    {
      "cell_type": "markdown",
      "metadata": {
        "id": "l6WGNlvDGVKb"
      },
      "source": [
        "### 3. Filtro de Mediana\n",
        "\n",
        "Aqui, a função **skimage.filters.rank.median()** calcula a mediana de todos os pixels sob a janela do kernel e o pixel central é substituido com este valor mediano. Este filtro é muito efetivo para a remoção do ruído *sal e pimenta* (salt-and-pepper). Uma observação interessante é que, nos filtros quadrados e Gaussiano, o valro filtrado para o elemento central pode ser um valor que não existe na imagem original. Contudo este não é o caso do filtro de mediana, já que o elementro central sempre é substituido por algum valor de pixel da imagem. Isto reduz efetivamenteo ruído. O tamanho do kernel deve ser um inteiro ímpar positivo.\n",
        "\n",
        "Nesta demonstração, nós adicionamos 50% de ruído a nossa imagem original e usamos um filtro de mediana. Veja o resultado:\n",
        "\n",
        "`median = cv2.medianBlur(img,5)`\n",
        "\n",
        "O código abaixo (StackOverflow http://stackoverflow.com/a/30609854/1247542 ) apresenta uma função para adicionar ruído do tipo Sal e Pimenta em uma imagem.\n",
        "\n",
        "\n",
        "    Parameters\n",
        "    ----------\n",
        "    image : ndarray\n",
        "        Input image data. Will be converted to float.\n",
        "    mode : str\n",
        "        One of the following strings, selecting the type of noise to add:\n",
        "\n",
        "        'gauss'     Gaussian-distributed additive noise.\n",
        "        'poisson'   Poisson-distributed noise generated from the data.\n",
        "        's&p'       Replaces random pixels with 0 or 1.\n",
        "        'speckle'   Multiplicative noise using out = image + n*image,where\n",
        "                    n is uniform noise with specified mean & variance.\n",
        "\n",
        "\n",
        "    import numpy as np\n",
        "    import os\n",
        "    import cv2\n",
        "    def noisy(noise_typ,image):\n",
        "       if noise_typ == \"gauss\":\n",
        "          row,col,ch= image.shape\n",
        "          mean = 0\n",
        "          var = 0.1\n",
        "          sigma = var**0.5\n",
        "          gauss = np.random.normal(mean,sigma,(row,col,ch))\n",
        "          gauss = gauss.reshape(row,col,ch)\n",
        "          noisy = image + gauss\n",
        "          return noisy\n",
        "       elif noise_typ == \"s&p\":\n",
        "          row,col,ch = image.shape\n",
        "          s_vs_p = 0.5\n",
        "          amount = 0.004\n",
        "          out = image\n",
        "          # Salt mode\n",
        "          num_salt = np.ceil(amount * image.size * s_vs_p)\n",
        "          coords = [np.random.randint(0, i - 1, int(num_salt))\n",
        "                  for i in image.shape]\n",
        "          out[coords] = 1\n",
        "\n",
        "          # Pepper mode\n",
        "          num_pepper = np.ceil(amount* image.size * (1. - s_vs_p))\n",
        "          coords = [np.random.randint(0, i - 1, int(num_pepper))\n",
        "                  for i in image.shape]\n",
        "          out[coords] = 0\n",
        "          return out\n",
        "      elif noise_typ == \"poisson\":\n",
        "          vals = len(np.unique(image))\n",
        "          vals = 2 ** np.ceil(np.log2(vals))\n",
        "          noisy = np.random.poisson(image * vals) / float(vals)\n",
        "          return noisy\n",
        "      elif noise_typ ==\"speckle\":\n",
        "          row,col,ch = image.shape\n",
        "          gauss = np.random.randn(row,col,ch)\n",
        "          gauss = gauss.reshape(row,col,ch)        \n",
        "          noisy = image + image * gauss\n",
        "          return noisy\n"
      ]
    },
    {
      "cell_type": "markdown",
      "metadata": {
        "id": "HgXnEO7dGVKi"
      },
      "source": [
        "### 4. Filtragem bilateral\n",
        "\n",
        "Como vimos acima, os filtros apresentados tendem a borrar as bordas. Este não é o caso do Filtro Bilateral, que foi definido para, e é altamente efetivo, a redução de ruído enquanto preserva as bordas. Mas esta operação é lenta comparada com outros filtros. \n",
        "\n",
        "Já vimos que um filtro Gaussiano toma a vizinhança ao redor de um pixel e encontra sua média ponderada Gaussiana. Este filtro Gaussiano é uma função do espaço somente, isto é, pixels vizinhos são considerados enquanto se faz a filtragem. Ele não considera se um pixel tem praticamente a mesma intensidade e não considera se um pixel está ou não em uma borda. O efeito resultante é que filtros Gaussianos tendem a borrar as bordas, o que é indesejável.\n",
        "\n",
        "O filtro bilateral também utiliza um filtro Gaussinao no domínio do espaço, mas ele também utiliza mais um componente de filtro (multiplicativo) Gaussiano que é uma função das diferenças das intensidades dos pixels. A função Gaussiana do espaço garante que somente pixels que são \"vizinhos espaciais\" sejam considerados, enquanto o componente Gaussiano aplicado no domínio da intensidade (uma função Gaussiana da diferença das intensidades) garante que somente aqueles pixels com intensidades similares aos daquele da região central (\"vizinhos de intensidade\") sejam incluídos para se calcular o valor de intensidade borrado. Como resultado, este método preserva as bordas, já que para pixels que estão próximos às bordas, os pixels vizinhos colocados do outro lado da borda, e portanto que tem maiores variações de intensidade quando comparado com o pixel central, não serão incluídos no borramento.\n",
        "\n",
        "\n",
        "### Recursos adicionais\n",
        "\n",
        "1. Detalhes sobre [filtragem bilateral pode ser visto aqui](http://people.csail.mit.edu/sparis/bf_course/ \"Bilateral Filter\")\n",
        "2. Paper apresentando a [filtragem bilateral, por Tomasi e Manduchi](https://users.soe.ucsc.edu/~manduchi/Papers/ICCV98.pdf) \n"
      ]
    },
    {
      "cell_type": "code",
      "metadata": {
        "id": "qjOPv-LLGVKj"
      },
      "source": [
        "from  skimage.restoration import denoise_bilateral\n",
        "\n",
        "imagem_color = data.chelsea() #io.imread('/home/mario/docs/cursos/pdivc/images/cat-face-furry-striped.jpg')\n",
        "\n",
        "# img_rgb = data.chelsea()\n",
        "    \n",
        "img = rgb2gray(imagem_color)\n",
        "\n",
        "sigma = 3\n",
        "fig = plt.figure(figsize=(21, 19))\n",
        "dst = denoise_bilateral(img,win_size=5,sigma_color=sigma,multichannel=False)\n",
        "dst_g = gaussian(img,sigma=sigma,multichannel=False)\n",
        "dst_m = generic_filter(img,function=media,footprint=kernel,extra_arguments=(ws,))\n",
        "\n",
        "plt.subplot(221),plt.imshow(img,cmap='gray'),plt.title('Original')\n",
        "plt.xticks([]), plt.yticks([])\n",
        "plt.subplot(222),plt.imshow(dst,cmap='gray'),plt.title('Bilateral sigma: %s' % (sigma))\n",
        "plt.xticks([]), plt.yticks([])\n",
        "plt.subplot(223),plt.imshow(dst_g,cmap='gray'),plt.title('Gaussiano sigma: %s' % (sigma))\n",
        "plt.xticks([]), plt.yticks([])\n",
        "plt.subplot(224),plt.imshow(dst_m,cmap='gray'),plt.title('Média 5x5')\n",
        "plt.xticks([]), plt.yticks([])\n",
        "\n",
        "\n",
        "plt.show()"
      ],
      "execution_count": null,
      "outputs": []
    },
    {
      "cell_type": "markdown",
      "metadata": {
        "id": "58eHs966GVKl"
      },
      "source": [
        "### Exercícios -- Suavização\n",
        "\n",
        "1. Pegue uma imagem, adicione ruído Gaussiano e ruído sal e pimenta, e compare os efeitos do borramento (suavização) via filtros quadrado, Gaussiano e mediano para ambas as imagens conforme você muda o nível de ruído.\n",
        "\n",
        "2. Pegue uma imagem com detalhes finos (como a do gato e seu bigode, acima), adicione ruído Gaussiano e ruído sal e pimenta e compare os efeitos do borramento (suavização) via filtragem bilateral, gaussiana e de média (com kernel). Experimente diversos valores de sigma e tamanho do kernel para ver os resultados.\n",
        "\n",
        "**Submeta** via Moodle:\n",
        "\n",
        "* o notebook com todas as células de execução abertas, contendo suas funções para adicionar os ruídos, para realizar as filtragens nas diversas imagens.\n",
        "* um relatório explicando as experiências e suas observações sobre cada filtro."
      ]
    },
    {
      "cell_type": "markdown",
      "metadata": {
        "id": "uC1dUaARGVKl"
      },
      "source": [
        "# Gradientes de Imagem - Filtros passa-alta\n",
        "\n",
        "## Objetivo\n",
        "\n",
        " * Encontrar gradientes na imagem, bordas, etc.\n",
        " * Utilizar as funções: **skimage.filters.sobel()**, **skimage.filters.scharr()**, **skimage.filters.laplace()**, etc. e as variantes **h** e **v** de cada um.\n",
        " \n",
        "## Teoria\n",
        "\n",
        "A biblioteca **Scikit-image** provê vários tipos de filtros de gradiente ou filtros passa-alta, entre eles: Sobel, Scharr e Laplaciano. Vamos ver cada um deles.\n",
        "\n",
        "### 1. Filtros Derivativos Sobel e Scharr\n",
        "\n",
        "Os operadores de Sobel são uma junção de suavização Gaussiana com operação de diferenciação, de modo que são mais resistentes a ruído. É possível fazer a filtragem especificando a direção das derivadas a serem tomadas -- vertical ou horizontal (chamando as funções especializadas `sobel_h`/`scharr_h` (horizontal) e `sobel_v`/`scharr_v` (vertical). O kernel utilizado em ambas funções é `3x3`. Veja na documentação os valores dos kernels.\n",
        "\n",
        "### 2. Filtros Derivativos Laplacianos\n",
        "\n",
        "Eles calculam o Laplaciano da imagem, dado pela relação $\\Delta src = \\frac{\\delta^2 src}{\\delta x^2} + \\frac{\\delta^2 src}{\\delta y^2}$. \n",
        "\n",
        "## Código\n",
        "\n",
        "O código abaixo mostra todos os operadores em um único diagrama. Todos os kernels são de tamanho 5x5. A profundidade da imagem de saída é passada como -1 para pegar os resultados como tipo `np.uint8`.\n"
      ]
    },
    {
      "cell_type": "code",
      "metadata": {
        "id": "1vS4IXZSGVKm"
      },
      "source": [
        "from skimage.filters import laplace, sobel_h, sobel_v, sobel\n",
        "from skimage.exposure import equalize_hist, rescale_intensity\n",
        "\n",
        "imagem_color = data.coffee() #io.imread('dave.jpg')\n",
        "img = rgb2gray(imagem_color)\n",
        "print(img.shape)\n",
        "\n",
        "#limiar = 160\n",
        "#img[img > limiar] = 255\n",
        "#img[img <= limiar] = 0\n",
        "\n",
        "laplacian = laplace(img,ksize=3)\n",
        "img_sobel_h = sobel_h(img)\n",
        "img_sobel_v = sobel_v(img)\n",
        "img_sobel = sobel(img)\n",
        "\n",
        "fig = plt.figure(figsize=(21, 19))\n",
        "plt.subplot(3,2,1),plt.imshow(img,cmap = 'gray')\n",
        "plt.title('Original'), \n",
        "plt.xticks([]), plt.yticks([])\n",
        "plt.subplot(3,2,2),plt.imshow(laplacian,cmap = 'gray')\n",
        "plt.title('Laplaciano'), \n",
        "plt.xticks([]), plt.yticks([])\n",
        "plt.subplot(3,2,3),plt.imshow(equalize_hist(laplacian),cmap = 'gray')\n",
        "plt.title('Eq Hist Laplaciano'), \n",
        "plt.xticks([]), plt.yticks([])\n",
        "plt.subplot(3,2,4),plt.imshow(img_sobel_h,cmap = 'gray')\n",
        "plt.title('Sobel h'), \n",
        "plt.xticks([]), plt.yticks([])\n",
        "plt.subplot(3,2,5),plt.imshow(img_sobel_v,cmap = 'gray')\n",
        "plt.title('Sobel v'), \n",
        "plt.xticks([]), plt.yticks([])\n",
        "plt.subplot(3,2,6),plt.imshow(img_sobel,cmap = 'gray')\n",
        "plt.title('Sobel'), \n",
        "plt.xticks([]), plt.yticks([])\n",
        "\n",
        "plt.show()"
      ],
      "execution_count": null,
      "outputs": []
    },
    {
      "cell_type": "code",
      "metadata": {
        "id": "VvwBIbopGVKy"
      },
      "source": [
        "fig = plt.figure(figsize=(21, 19))\n",
        "plt.subplot(1,2,1),plt.imshow(abs(img_sobel_h)+abs(img_sobel_v),cmap='gray')\n",
        "plt.yticks([]),plt.xticks([])"
      ],
      "execution_count": null,
      "outputs": []
    },
    {
      "cell_type": "markdown",
      "metadata": {
        "id": "XPCzdFp9GVK-"
      },
      "source": [
        "\n",
        "### Exercício Gradientes 1\n",
        "\n",
        "Pesquise as melhores alternativas para a visualização dos filtros direcionais `sobel_h` e `sobel_v` mostrando imagens binárias.\n",
        "\n",
        "\n",
        "### Exercício Gradientes  2\n",
        "\n",
        "Utilize outras imagens (da Web ou do _scikit_ ) e aplique os filtros derivativos (kernel) manualmente (com a função **generic_filter()** ) para poder experimentar diversos valores de kernel.\n",
        "\n"
      ]
    },
    {
      "cell_type": "code",
      "metadata": {
        "id": "2F-q4eClGVK_"
      },
      "source": [
        "ws = [-1,-2,-1,0,0,0,1,2,1,]"
      ],
      "execution_count": null,
      "outputs": []
    }
  ]
}